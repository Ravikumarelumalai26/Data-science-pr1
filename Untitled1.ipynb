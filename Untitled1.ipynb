{
 "cells": [
  {
   "cell_type": "code",
   "execution_count": 1,
   "id": "c1691870-93d7-4b93-9642-cbf026420455",
   "metadata": {},
   "outputs": [],
   "source": [
    "import csv"
   ]
  },
  {
   "cell_type": "code",
   "execution_count": 3,
   "id": "a3797295-73f1-4ad8-b1f5-3a624365d109",
   "metadata": {},
   "outputs": [
    {
     "data": {
      "text/plain": [
       "<_io.TextIOWrapper name='ravi.csv' mode='r' encoding='UTF-8'>"
      ]
     },
     "execution_count": 3,
     "metadata": {},
     "output_type": "execute_result"
    }
   ],
   "source": [
    "text_1= open('ravi.csv')\n",
    "text_1"
   ]
  },
  {
   "cell_type": "code",
   "execution_count": 7,
   "id": "f430c0fc-04da-418b-9031-aede9ff64374",
   "metadata": {},
   "outputs": [
    {
     "name": "stdout",
     "output_type": "stream",
     "text": [
      "<_csv.reader object at 0x103cc3ae0>\n"
     ]
    }
   ],
   "source": [
    "text_2=csv.reader(text_1)\n",
    "print(text_2)"
   ]
  },
  {
   "cell_type": "code",
   "execution_count": 9,
   "id": "37441d08-dae9-4542-9c54-a3c79bb1441a",
   "metadata": {},
   "outputs": [
    {
     "data": {
      "text/plain": [
       "[['Sr. No.', 'Player', 'Base Price', 'Winning Bid', 'Capped/Uncapped'],\n",
       " ['1', 'Noor Ahmad', '20000000', '100000000', 'Capped'],\n",
       " ['2', 'Ravichandaran Ashwin', '20000000', '97500000', 'Capped'],\n",
       " ['3', 'Devon Conway', '20000000', '62500000', 'Capped'],\n",
       " ['4', 'Syed Khaleel Ahmed', '20000000', '48000000', 'Capped'],\n",
       " ['5', 'Rachin Ravindra', '15000000', '40000000', 'Capped'],\n",
       " ['6', 'Anshul Kamboj', '3000000', '34000000', 'Uncapped'],\n",
       " ['7', 'Rahul Tripathi', '7500000', '34000000', 'Capped'],\n",
       " ['8', 'Sam Curran', '20000000', '24000000', 'Capped'],\n",
       " ['9', 'Gurjapneet Singh', '3000000', '22000000', 'Uncapped'],\n",
       " ['10', 'Nathan Ellis', '12500000', '20000000', 'Capped'],\n",
       " ['11', 'Deepak Hooda', '7500000', '17000000', 'Capped'],\n",
       " ['12', 'Jamie Overton', '15000000', '15000000', 'Capped'],\n",
       " ['13', 'Vijay Shankar', '3000000', '12000000', 'Uncapped'],\n",
       " ['14', 'Vansh Bedi', '3000000', '5500000', 'Uncapped'],\n",
       " ['15', 'Andre Siddarth', '3000000', '3000000', 'Uncapped'],\n",
       " ['16', 'Shreyas Gopal', '3000000', '3000000', 'Uncapped'],\n",
       " ['17', 'Ramakrishna Ghosh', '3000000', '3000000', 'Uncapped'],\n",
       " ['18', 'Kamlesh Nagarkoti', '3000000', '3000000', 'Uncapped'],\n",
       " ['19', 'Mukesh Choudhary', '3000000', '3000000', 'Uncapped'],\n",
       " ['20', 'Shaik Rasheed', '3000000', '3000000', 'Uncapped']]"
      ]
     },
     "execution_count": 9,
     "metadata": {},
     "output_type": "execute_result"
    }
   ],
   "source": [
    "text3=list(text_2)\n",
    "text3"
   ]
  },
  {
   "cell_type": "code",
   "execution_count": 12,
   "id": "1fa19cab-4c66-497f-8848-848b94a56366",
   "metadata": {},
   "outputs": [
    {
     "data": {
      "text/plain": [
       "[['Sr. No.', 'Player', 'Base Price', 'Winning Bid', 'Capped/Uncapped'],\n",
       " ['1', 'Noor Ahmad', '20000000', '100000000', 'Capped'],\n",
       " ['2', 'Ravichandaran Ashwin', '20000000', '97500000', 'Capped'],\n",
       " ['3', 'Devon Conway', '20000000', '62500000', 'Capped'],\n",
       " ['4', 'Syed Khaleel Ahmed', '20000000', '48000000', 'Capped']]"
      ]
     },
     "execution_count": 12,
     "metadata": {},
     "output_type": "execute_result"
    }
   ],
   "source": [
    "text3[:5]"
   ]
  },
  {
   "cell_type": "code",
   "execution_count": 13,
   "id": "1dd8f61c-7c70-4089-b610-5c348d67ce89",
   "metadata": {},
   "outputs": [
    {
     "data": {
      "text/plain": [
       "21"
      ]
     },
     "execution_count": 13,
     "metadata": {},
     "output_type": "execute_result"
    }
   ],
   "source": [
    "len(text3)"
   ]
  },
  {
   "cell_type": "code",
   "execution_count": 24,
   "id": "b218ec72-cbb1-4533-884a-23cdbdcb2a87",
   "metadata": {},
   "outputs": [
    {
     "name": "stdout",
     "output_type": "stream",
     "text": [
      "['Noor Ahmad', 'Ravichandaran Ashwin', 'Devon Conway', 'Syed Khaleel Ahmed', 'Rachin Ravindra', 'Anshul Kamboj', 'Rahul Tripathi', 'Sam Curran', 'Gurjapneet Singh', 'Nathan Ellis', 'Deepak Hooda', 'Jamie Overton', 'Vijay Shankar', 'Vansh Bedi']\n"
     ]
    }
   ],
   "source": [
    "name = []\n",
    "for line in text3[1:15]:\n",
    "    name.append(line[1])\n",
    "print(name)\n"
   ]
  },
  {
   "cell_type": "code",
   "execution_count": null,
   "id": "2b1d42fe-a13b-4b8f-9c72-76612b8b5b97",
   "metadata": {},
   "outputs": [],
   "source": []
  }
 ],
 "metadata": {
  "kernelspec": {
   "display_name": "Python 3 (ipykernel)",
   "language": "python",
   "name": "python3"
  },
  "language_info": {
   "codemirror_mode": {
    "name": "ipython",
    "version": 3
   },
   "file_extension": ".py",
   "mimetype": "text/x-python",
   "name": "python",
   "nbconvert_exporter": "python",
   "pygments_lexer": "ipython3",
   "version": "3.13.0"
  }
 },
 "nbformat": 4,
 "nbformat_minor": 5
}
